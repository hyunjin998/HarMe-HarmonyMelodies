{
 "cells": [
  {
   "cell_type": "markdown",
   "metadata": {},
   "source": [
    "# 사용 토큰 확인"
   ]
  },
  {
   "cell_type": "code",
   "execution_count": 102,
   "metadata": {},
   "outputs": [
    {
     "name": "stdout",
     "output_type": "stream",
     "text": [
      "200\n",
      "{'credits_left': 20, 'period': None, 'monthly_limit': 50, 'monthly_usage': 30}\n"
     ]
    }
   ],
   "source": [
    "import requests\n",
    "\n",
    "url = \"http://localhost:3000/api/get_limit\"\n",
    "response = requests.get(url, headers={'Content-Type': 'application/json'})\n",
    "print(response.status_code)\n",
    "print(response.json())\n"
   ]
  },
  {
   "cell_type": "markdown",
   "metadata": {},
   "source": [
    "# 관련 API 및 파이프라인 데모"
   ]
  },
  {
   "cell_type": "code",
   "execution_count": 110,
   "metadata": {},
   "outputs": [],
   "source": [
    "from flask import Flask, request, jsonify\n",
    "from openai import OpenAI\n",
    "import os\n",
    "\n",
    "app = Flask(__name__)\n",
    "api_key = os.getenv('OPENAI_API_KEY')\n",
    "#openai.api_key = api_key\n",
    "\n",
    "client = OpenAI(\n",
    "    api_key= api_key,\n",
    ")\n",
    "\n",
    "\n",
    "def get_audio_information(audio_ids):\n",
    "    url = f\"{base_url}/api/get?ids={audio_ids}\"\n",
    "    response = requests.get(url)\n",
    "    return response.json()\n",
    "\n",
    "def send_post_request(url, payload):\n",
    "    url = \"http://localhost:3000/api/custom_generate\"\n",
    "    headers = {'Content-Type': 'application/json'}\n",
    "    response = requests.post(url, data=json.dumps(payload), headers=headers)\n",
    "    return response.json()\n",
    "\n",
    "@app.route('/generate_lyrics', methods=['POST'])\n",
    "def generate_lyrics(data):\n",
    "    \n",
    "    #data = request.get_json()\n",
    "    \n",
    "    #genre = data.get('genre')\n",
    "    #style = data.get('style')\n",
    "    \n",
    "    genre = data['genre']\n",
    "    style = data['style']\n",
    "    \n",
    "    #if not genre or not style:\n",
    "    #    return jsonify({'error': 'Genre and style are required'}), 400\n",
    "\n",
    "    prompt = f\"\"\"\n",
    "    \n",
    "    너는 노래 가사를 작성할 거야. \n",
    "    설명 문구는 빼고 가사만 말해줘.\n",
    "    노래의 장르와 스타일은 다음과 같아\n",
    "    한국 정서에 맞는 좋은 퀄리티의 가사를 뽑아줘. :\n",
    "    \n",
    "    장르: {genre}\n",
    "    스타일: {style}\n",
    "    \n",
    "    이 정보를 바탕으로, {genre} 장르와 {style} 스타일에 맞는 한국어 노래 가사를 작성해줘. 노래 가사는 다음과 같은 구조를 가질 수 있어:\n",
    "    - 첫 번째 구절 (Verse 1)\n",
    "    - 두 번째 구절 (Verse 2)\n",
    "    - 첫 번째 구절 (Verse 1)\n",
    "    - 두 번째 구절 (Verse 2)\n",
    "    - 다리 (Bridge) (선택 사항)\n",
    "    - 후렴구 (Chorus)\n",
    "    \n",
    "    가사는 최소한 200자 이상으로 작성해줘. \n",
    "    \"\"\"\n",
    "\n",
    "    response = client.chat.completions.create(\n",
    "        model=\"gpt-3.5-turbo\",\n",
    "        messages=[\n",
    "            {\"role\": \"system\", \"content\": \"You are a helpful assistant that generates Korean song lyrics based on the given genre and style.\"},\n",
    "            {\"role\": \"user\", \"content\": prompt}\n",
    "        ],\n",
    "        max_tokens=500\n",
    "    )\n",
    "\n",
    "    return response.choices[0].message.content.strip()\n",
    "\n",
    "class Translate_Model():\n",
    "\n",
    "    def __init__(self):\n",
    "        pass\n",
    "        \n",
    "    def __call__(self,text,input_language,output_language):\n",
    "\n",
    "        change_code = {\"ko\":\"KO\",\"en\":\"EN\"}\n",
    "        params = {'auth_key' : '', 'text' : text, 'source_lang' : change_code[input_language], \"target_lang\": change_code[output_language] }\n",
    "        result = requests.post('https://api-free.deepl.com/v2/translate', data=params, verify=False)\n",
    "        print(result.json()['translations'][0][\"text\"])\n",
    "            \n",
    "        return result.json()['translations'][0][\"text\"]\n"
   ]
  },
  {
   "cell_type": "code",
   "execution_count": 112,
   "metadata": {},
   "outputs": [
    {
     "name": "stderr",
     "output_type": "stream",
     "text": [
      "/home/tester01/anaconda3/envs/mintai_llm/lib/python3.12/site-packages/urllib3/connectionpool.py:1099: InsecureRequestWarning: Unverified HTTPS request is being made to host 'api-free.deepl.com'. Adding certificate verification is strongly advised. See: https://urllib3.readthedocs.io/en/latest/advanced-usage.html#tls-warnings\n",
      "  warnings.warn(\n"
     ]
    },
    {
     "name": "stdout",
     "output_type": "stream",
     "text": [
      "I'm at work and I want to go home, ballad style\n"
     ]
    },
    {
     "name": "stderr",
     "output_type": "stream",
     "text": [
      "/home/tester01/anaconda3/envs/mintai_llm/lib/python3.12/site-packages/urllib3/connectionpool.py:1099: InsecureRequestWarning: Unverified HTTPS request is being made to host 'api-free.deepl.com'. Adding certificate verification is strongly advised. See: https://urllib3.readthedocs.io/en/latest/advanced-usage.html#tls-warnings\n",
      "  warnings.warn(\n"
     ]
    },
    {
     "name": "stdout",
     "output_type": "stream",
     "text": [
      "I want to leave work\n",
      "I want to leave work\n",
      "Verse 1:\n",
      "출근길 지친 몸과 마음\n",
      "희미한 불빛이 비쳐\n",
      "가만히 멈춰 서있는\n",
      "긴 하루 끝엔 또 어찌\n",
      "\n",
      "Verse 2:\n",
      "창문 넘어 비치는 빛이\n",
      "내 맘을 비추고 있어\n",
      "지친 하루가 끝나면\n",
      "너에게로 달려가\n",
      "\n",
      "Chorus:\n",
      "퇴근하고 싶어\n",
      "나의 모든 일상을 뒤로하고\n",
      "풍경이 바뀌는 그 때\n",
      "편히 눈 감고 싶어\n",
      "\n",
      "Verse 1:\n",
      "세상 속에 빠져있는\n",
      "나를 찾아 안아주던\n",
      "하루 끝에 웃음 짓는\n",
      "너의 모습이 자꾸 보여\n",
      "\n",
      "Verse 2:\n",
      "조금씩 서서히 쌓인\n",
      "일상 속에 갇힌 나\n",
      "너와 함께 떠나고파\n",
      "퇴근하고 싶어\n",
      "\n",
      "Chorus:\n",
      "퇴근하고 싶어\n",
      "나의 모든 일상을 뒤로하고\n",
      "풍경이 바뀌는 그 때\n",
      "편히 눈 감고 싶어\n",
      "\n",
      "(Bridge):\n",
      "하고픈 게 많은데\n",
      "일상에 얽혀버린 나인데\n",
      "너와 함께라면\n",
      "행복한 퇴근을 꿈꿀 수 있어\n",
      "\n",
      "Chorus:\n",
      "퇴근하고 싶어\n",
      "나의 모든 일상을 뒤로하고\n",
      "풍경이 바뀌는 그 때\n",
      "편히 눈 감고 싶어\n",
      "Good Quality, Korean,male,I'm at work and I want to go home, ballad style\n"
     ]
    }
   ],
   "source": [
    "translate = Translate_Model()\n",
    "\n",
    "style = \"출근중인데 퇴근하고 싶어, 발라드 스타일\"\n",
    "data = { \"genre\": \n",
    "    \"발라드\",\n",
    "    \"style\": style\n",
    "}\n",
    "lyrcis = generate_lyrics(data)\n",
    "\n",
    "style_default = \"Good Quality, Korean,\"\n",
    "sex = \"male,\"\n",
    "style_en = translate(style,\"ko\",\"en\")\n",
    "title = \"퇴근하고 싶어\"\n",
    "title = translate(title,\"ko\",\"en\")\n",
    "tags = style_default + sex + style_en\n",
    "\n",
    "print(title)\n",
    "print(lyrcis)\n",
    "print(tags)"
   ]
  },
  {
   "cell_type": "code",
   "execution_count": 113,
   "metadata": {},
   "outputs": [
    {
     "name": "stdout",
     "output_type": "stream",
     "text": [
      "[{'id': '733db7ae-69bd-4c45-8216-2bf6075855ba', 'title': 'I want to leave work', 'image_url': None, 'lyric': 'Verse 1:\\n출근길 지친 몸과 마음\\n희미한 불빛이 비쳐\\n가만히 멈춰 서있는\\n긴 하루 끝엔 또 어찌\\n\\nVerse 2:\\n창문 넘어 비치는 빛이\\n내 맘을 비추고 있어\\n지친 하루가 끝나면\\n너에게로 달려가\\n\\nChorus:\\n퇴근하고 싶어\\n나의 모든 일상을 뒤로하고\\n풍경이 바뀌는 그 때\\n편히 눈 감고 싶어\\n\\nVerse 1:\\n세상 속에 빠져있는\\n나를 찾아 안아주던\\n하루 끝에 웃음 짓는\\n너의 모습이 자꾸 보여\\n\\nVerse 2:\\n조금씩 서서히 쌓인\\n일상 속에 갇힌 나\\n너와 함께 떠나고파\\n퇴근하고 싶어\\n\\nChorus:\\n퇴근하고 싶어\\n나의 모든 일상을 뒤로하고\\n풍경이 바뀌는 그 때\\n편히 눈 감고 싶어\\n\\n(Bridge):\\n하고픈 게 많은데\\n일상에 얽혀버린 나인데\\n너와 함께라면\\n행복한 퇴근을 꿈꿀 수 있어\\n\\nChorus:\\n퇴근하고 싶어\\n나의 모든 일상을 뒤로하고\\n풍경이 바뀌는 그 때\\n편히 눈 감고 싶어', 'audio_url': '', 'video_url': '', 'created_at': '2024-07-30T10:16:30.336Z', 'model_name': 'chirp-v3', 'status': 'submitted', 'gpt_description_prompt': None, 'prompt': 'Verse 1:\\n출근길 지친 몸과 마음\\n희미한 불빛이 비쳐\\n가만히 멈춰 서있는\\n긴 하루 끝엔 또 어찌\\n\\nVerse 2:\\n창문 넘어 비치는 빛이\\n내 맘을 비추고 있어\\n지친 하루가 끝나면\\n너에게로 달려가\\n\\nChorus:\\n퇴근하고 싶어\\n나의 모든 일상을 뒤로하고\\n풍경이 바뀌는 그 때\\n편히 눈 감고 싶어\\n\\nVerse 1:\\n세상 속에 빠져있는\\n나를 찾아 안아주던\\n하루 끝에 웃음 짓는\\n너의 모습이 자꾸 보여\\n\\nVerse 2:\\n조금씩 서서히 쌓인\\n일상 속에 갇힌 나\\n너와 함께 떠나고파\\n퇴근하고 싶어\\n\\nChorus:\\n퇴근하고 싶어\\n나의 모든 일상을 뒤로하고\\n풍경이 바뀌는 그 때\\n편히 눈 감고 싶어\\n\\n(Bridge):\\n하고픈 게 많은데\\n일상에 얽혀버린 나인데\\n너와 함께라면\\n행복한 퇴근을 꿈꿀 수 있어\\n\\nChorus:\\n퇴근하고 싶어\\n나의 모든 일상을 뒤로하고\\n풍경이 바뀌는 그 때\\n편히 눈 감고 싶어', 'type': 'gen', 'tags': \"Good Quality, Korean,male,I'm at work and I want to go home, ballad style\", 'duration': None}, {'id': '1f2b2827-788d-4c03-993b-5976bc15fdd0', 'title': 'I want to leave work', 'image_url': None, 'lyric': 'Verse 1:\\n출근길 지친 몸과 마음\\n희미한 불빛이 비쳐\\n가만히 멈춰 서있는\\n긴 하루 끝엔 또 어찌\\n\\nVerse 2:\\n창문 넘어 비치는 빛이\\n내 맘을 비추고 있어\\n지친 하루가 끝나면\\n너에게로 달려가\\n\\nChorus:\\n퇴근하고 싶어\\n나의 모든 일상을 뒤로하고\\n풍경이 바뀌는 그 때\\n편히 눈 감고 싶어\\n\\nVerse 1:\\n세상 속에 빠져있는\\n나를 찾아 안아주던\\n하루 끝에 웃음 짓는\\n너의 모습이 자꾸 보여\\n\\nVerse 2:\\n조금씩 서서히 쌓인\\n일상 속에 갇힌 나\\n너와 함께 떠나고파\\n퇴근하고 싶어\\n\\nChorus:\\n퇴근하고 싶어\\n나의 모든 일상을 뒤로하고\\n풍경이 바뀌는 그 때\\n편히 눈 감고 싶어\\n\\n(Bridge):\\n하고픈 게 많은데\\n일상에 얽혀버린 나인데\\n너와 함께라면\\n행복한 퇴근을 꿈꿀 수 있어\\n\\nChorus:\\n퇴근하고 싶어\\n나의 모든 일상을 뒤로하고\\n풍경이 바뀌는 그 때\\n편히 눈 감고 싶어', 'audio_url': '', 'video_url': '', 'created_at': '2024-07-30T10:16:30.336Z', 'model_name': 'chirp-v3', 'status': 'submitted', 'gpt_description_prompt': None, 'prompt': 'Verse 1:\\n출근길 지친 몸과 마음\\n희미한 불빛이 비쳐\\n가만히 멈춰 서있는\\n긴 하루 끝엔 또 어찌\\n\\nVerse 2:\\n창문 넘어 비치는 빛이\\n내 맘을 비추고 있어\\n지친 하루가 끝나면\\n너에게로 달려가\\n\\nChorus:\\n퇴근하고 싶어\\n나의 모든 일상을 뒤로하고\\n풍경이 바뀌는 그 때\\n편히 눈 감고 싶어\\n\\nVerse 1:\\n세상 속에 빠져있는\\n나를 찾아 안아주던\\n하루 끝에 웃음 짓는\\n너의 모습이 자꾸 보여\\n\\nVerse 2:\\n조금씩 서서히 쌓인\\n일상 속에 갇힌 나\\n너와 함께 떠나고파\\n퇴근하고 싶어\\n\\nChorus:\\n퇴근하고 싶어\\n나의 모든 일상을 뒤로하고\\n풍경이 바뀌는 그 때\\n편히 눈 감고 싶어\\n\\n(Bridge):\\n하고픈 게 많은데\\n일상에 얽혀버린 나인데\\n너와 함께라면\\n행복한 퇴근을 꿈꿀 수 있어\\n\\nChorus:\\n퇴근하고 싶어\\n나의 모든 일상을 뒤로하고\\n풍경이 바뀌는 그 때\\n편히 눈 감고 싶어', 'type': 'gen', 'tags': \"Good Quality, Korean,male,I'm at work and I want to go home, ballad style\", 'duration': None}]\n"
     ]
    }
   ],
   "source": [
    "import requests\n",
    "import json\n",
    "\n",
    "payload = {\n",
    "    \"prompt\": f\"{lyrcis}\",\n",
    "    \"tags\": f\"{tags}\",\n",
    "    \"title\": f\"{title}\",\n",
    "    \"make_instrumental\": False,\n",
    "    \"model\": \"chirp-v3-5\",\n",
    "    \"wait_audio\": False\n",
    "}\n",
    "\n",
    "response = send_post_request(url, payload)\n",
    "print(response)\n"
   ]
  },
  {
   "cell_type": "code",
   "execution_count": 114,
   "metadata": {},
   "outputs": [
    {
     "name": "stdout",
     "output_type": "stream",
     "text": [
      "ids: 733db7ae-69bd-4c45-8216-2bf6075855ba,1f2b2827-788d-4c03-993b-5976bc15fdd0\n"
     ]
    }
   ],
   "source": [
    "data = response\n",
    "ids = f\"{data[0]['id']},{data[1]['id']}\"\n",
    "print(f\"ids: {ids}\")\n",
    "data = get_audio_information(ids)\n",
    "print(data)"
   ]
  },
  {
   "cell_type": "code",
   "execution_count": null,
   "metadata": {},
   "outputs": [],
   "source": [
    "import time\n",
    "import requests\n",
    "\n",
    "# replace your vercel domain\n",
    "base_url = 'http://localhost:3000'\n",
    "\n",
    "\n",
    "def custom_generate_audio(payload):\n",
    "    url = f\"{base_url}/api/custom_generate\"\n",
    "    response = requests.post(url, json=payload, headers={'Content-Type': 'application/json'})\n",
    "    return response.json()\n",
    "\n",
    "\n",
    "def extend_audio(payload):\n",
    "    url = f\"{base_url}/api/extend_audio\"\n",
    "    response = requests.post(url, json=payload, headers={'Content-Type': 'application/json'})\n",
    "    return response.json()\n",
    "\n",
    "def generate_audio_by_prompt(payload):\n",
    "    url = f\"{base_url}/api/generate\"\n",
    "    response = requests.post(url, json=payload, headers={'Content-Type': 'application/json'})\n",
    "    return response.json()\n",
    "\n",
    "\n",
    "def get_audio_information(audio_ids):\n",
    "    url = f\"{base_url}/api/get?ids={audio_ids}\"\n",
    "    response = requests.get(url)\n",
    "    return response.json()\n",
    "\n",
    "\n",
    "def get_quota_information():\n",
    "    url = f\"{base_url}/api/get_limit\"\n",
    "    response = requests.get(url)\n",
    "    return response.json()\n",
    "\n",
    "def get_clip(clip_id):\n",
    "    url = f\"{base_url}/api/clip?id={clip_id}\"\n",
    "    response = requests.get(url)\n",
    "    return response.json()\n",
    "\n",
    "def generate_whole_song(clip_id):\n",
    "    payloyd = {\"clip_id\": clip_id}\n",
    "    url = f\"{base_url}/api/concat\"\n",
    "    response = requests.post(url, json=payload)\n",
    "    return response.json()\n",
    "\n",
    "\n",
    "if __name__ == '__main__':\n",
    "    data = generate_audio_by_prompt({\n",
    "        \"prompt\": \"\"\"A popular heavy metal song about war, sung by a deep-voiced male singer, slowly and melodiously. \n",
    "        The lyrics depict the sorrow of people after the war.\n",
    "        \n",
    "        \"\"\",\n",
    "        \"make_instrumental\": False,\n",
    "        \"wait_audio\": False\n",
    "    })\n",
    "\n",
    "    ids = f\"{data[0]['id']},{data[1]['id']}\"\n",
    "    print(f\"ids: {ids}\")\n",
    "\n",
    "    for _ in range(60):\n",
    "        data = get_audio_information(ids)\n",
    "        if data[0][\"status\"] == 'streaming':\n",
    "            print(f\"{data[0]['id']} ==> {data[0]['audio_url']}\")\n",
    "            print(f\"{data[1]['id']} ==> {data[1]['audio_url']}\")\n",
    "            break\n",
    "        # sleep 5s\n",
    "        time.sleep(5)\n"
   ]
  }
 ],
 "metadata": {
  "kernelspec": {
   "display_name": "Python (mintai_llm)",
   "language": "python",
   "name": "mintai_llm"
  },
  "language_info": {
   "codemirror_mode": {
    "name": "ipython",
    "version": 3
   },
   "file_extension": ".py",
   "mimetype": "text/x-python",
   "name": "python",
   "nbconvert_exporter": "python",
   "pygments_lexer": "ipython3",
   "version": "3.12.0"
  }
 },
 "nbformat": 4,
 "nbformat_minor": 4
}
